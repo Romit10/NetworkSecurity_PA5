{
  "nbformat": 4,
  "nbformat_minor": 0,
  "metadata": {
    "colab": {
      "name": "PA_5.ipynb",
      "provenance": []
    },
    "kernelspec": {
      "name": "python3",
      "display_name": "Python 3"
    },
    "language_info": {
      "name": "python"
    }
  },
  "cells": [
    {
      "cell_type": "code",
      "execution_count": null,
      "metadata": {
        "id": "xp0P9NWQ8wHF"
      },
      "outputs": [],
      "source": [
        "import random"
      ]
    },
    {
      "cell_type": "code",
      "source": [
        "msg = str(input(\"Enter the message to be encrypted: \"))"
      ],
      "metadata": {
        "colab": {
          "base_uri": "https://localhost:8080/"
        },
        "id": "bljlDBM5-L49",
        "outputId": "2f7a8e06-4618-4f28-8c3d-aa107f6ee8d0"
      },
      "execution_count": null,
      "outputs": [
        {
          "name": "stdout",
          "output_type": "stream",
          "text": [
            "Enter the message to be encrypted: Romit\n"
          ]
        }
      ]
    },
    {
      "cell_type": "code",
      "source": [
        "from PA_5 import *"
      ],
      "metadata": {
        "id": "4kgH7ly4-6iF"
      },
      "execution_count": null,
      "outputs": []
    },
    {
      "cell_type": "code",
      "source": [
        "print(\"Original Message :\", msg)\n",
        " \n",
        "q = random.randint(pow(10, 20), pow(10, 50))\n",
        "g = random.randint(2, q)\n",
        "\n",
        "key = gen_key(q)# Private key for receiver\n",
        "h = power(g, key, q)\n",
        "print(\"g used : \", g)\n",
        "print(\"g^a used : \", h)\n",
        "\n",
        "en_msg, p = encrypt(msg, q, h, g)\n",
        "dr_msg = decrypt(en_msg, p, key, q)\n",
        "dmsg = ''.join(dr_msg)\n",
        "print(\"Decrypted Message :\", dmsg);"
      ],
      "metadata": {
        "colab": {
          "base_uri": "https://localhost:8080/"
        },
        "id": "En6rYweI-mVo",
        "outputId": "230b0cc3-691a-4476-e6df-1009c44f5799"
      },
      "execution_count": null,
      "outputs": [
        {
          "output_type": "stream",
          "name": "stdout",
          "text": [
            "Original Message : Romit\n",
            "g used :  5884900794995659410077199714533994425735040714220\n",
            "g^a used :  7281866775145642244728451308168369735904160314690\n",
            "g^k used :  5728062671672749689280045542610751367584209408316\n",
            "g^ak used :  5970618382793717717251918424471636510737798328392\n",
            "Decrypted Message : Romit\n"
          ]
        }
      ]
    },
    {
      "cell_type": "code",
      "source": [
        ""
      ],
      "metadata": {
        "id": "ZEDZeHjS_ATw"
      },
      "execution_count": null,
      "outputs": []
    }
  ]
}